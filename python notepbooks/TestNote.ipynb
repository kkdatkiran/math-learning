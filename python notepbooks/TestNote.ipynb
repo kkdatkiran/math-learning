{
 "cells": [
  {
   "cell_type": "code",
   "execution_count": 1,
   "metadata": {},
   "outputs": [
    {
     "name": "stdout",
     "output_type": "stream",
     "text": [
      "Requirement already satisfied: numpy in /opt/homebrew/lib/python3.11/site-packages (1.25.0)\n",
      "\n",
      "\u001b[1m[\u001b[0m\u001b[34;49mnotice\u001b[0m\u001b[1;39;49m]\u001b[0m\u001b[39;49m A new release of pip is available: \u001b[0m\u001b[31;49m23.0.1\u001b[0m\u001b[39;49m -> \u001b[0m\u001b[32;49m23.1.2\u001b[0m\n",
      "\u001b[1m[\u001b[0m\u001b[34;49mnotice\u001b[0m\u001b[1;39;49m]\u001b[0m\u001b[39;49m To update, run: \u001b[0m\u001b[32;49mpython3.11 -m pip install --upgrade pip\u001b[0m\n",
      "Note: you may need to restart the kernel to use updated packages.\n"
     ]
    }
   ],
   "source": [
    "%pip install numpy"
   ]
  },
  {
   "cell_type": "code",
   "execution_count": 38,
   "metadata": {},
   "outputs": [
    {
     "name": "stdout",
     "output_type": "stream",
     "text": [
      "[[-0.50440188  0.85844666  0.08566635 -0.03618494]\n",
      " [-0.45760437 -0.3501324   0.81728441  0.00719325]\n",
      " [-0.56119042 -0.31198957 -0.44236366 -0.62613274]\n",
      " [-0.470364   -0.20769965 -0.35919615  0.77884318]]\n",
      "[2.15082184 0.6920046  0.48561361 0.18981151]\n",
      "[[-0.36089401 -0.75460589 -0.34285967 -0.42751926]\n",
      " [-0.46097624 -0.19810713 -0.14260874  0.85318065]\n",
      " [-0.0471725  -0.40918339  0.9106797   0.03172052]\n",
      " [-0.80933996  0.47317277  0.18103172 -0.29715968]]\n"
     ]
    }
   ],
   "source": [
    "import numpy as np\n",
    "\n",
    "a = np.random.rand(4,4)\n",
    "\n",
    "U, S, Vh = np.linalg.svd(a)\n",
    "\n",
    "print(U)\n",
    "print(S)\n",
    "print(Vh)"
   ]
  },
  {
   "cell_type": "code",
   "execution_count": 39,
   "metadata": {},
   "outputs": [
    {
     "name": "stdout",
     "output_type": "stream",
     "text": [
      "[[-0.50440188  0.85844666  0.08566635 -0.03618494]\n",
      " [-0.45760437 -0.3501324   0.81728441  0.00719325]\n",
      " [-0.56119042 -0.31198957 -0.44236366 -0.62613274]\n",
      " [-0.470364   -0.20769965 -0.35919615  0.77884318]]\n",
      "[4.62603457 0.47887037 0.23582058 0.03602841]\n",
      "[[-0.50440188  0.85844666  0.08566635 -0.03618494]\n",
      " [-0.45760437 -0.3501324   0.81728441  0.00719325]\n",
      " [-0.56119042 -0.31198957 -0.44236366 -0.62613274]\n",
      " [-0.470364   -0.20769965 -0.35919615  0.77884318]]\n"
     ]
    }
   ],
   "source": [
    "# print(np.matmul(Vh, np.matmul(np.diag(S).T, np.matmul(U.T, np.matmul(U, np.matmul(np.diag(S), Vh.T))))))\n",
    "\n",
    "# print(np.matmul(Vh, np.matmul(np.diag(S).T, np.matmul(np.diag(S), Vh.T))))\n",
    "\n",
    "symMat = np.matmul(a, a.T)\n",
    "\n",
    "U, S, Vh = np.linalg.svd(symMat)\n",
    "\n",
    "print(U)\n",
    "print(S)\n",
    "print(Vh.T)\n"
   ]
  }
 ],
 "metadata": {
  "kernelspec": {
   "display_name": "Python 3",
   "language": "python",
   "name": "python3"
  },
  "language_info": {
   "codemirror_mode": {
    "name": "ipython",
    "version": 3
   },
   "file_extension": ".py",
   "mimetype": "text/x-python",
   "name": "python",
   "nbconvert_exporter": "python",
   "pygments_lexer": "ipython3",
   "version": "3.11.3"
  },
  "orig_nbformat": 4
 },
 "nbformat": 4,
 "nbformat_minor": 2
}
